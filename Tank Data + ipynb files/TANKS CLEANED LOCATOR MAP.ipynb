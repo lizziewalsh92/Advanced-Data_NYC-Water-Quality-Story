{
 "cells": [
  {
   "cell_type": "code",
   "execution_count": 1,
   "id": "8e52b623-d684-4e3f-9d60-5c23327c7304",
   "metadata": {},
   "outputs": [
    {
     "name": "stdout",
     "output_type": "stream",
     "text": [
      "Requirement already satisfied: folium in /opt/anaconda3/lib/python3.12/site-packages (0.19.5)\n",
      "Requirement already satisfied: branca>=0.6.0 in /opt/anaconda3/lib/python3.12/site-packages (from folium) (0.8.1)\n",
      "Requirement already satisfied: jinja2>=2.9 in /opt/anaconda3/lib/python3.12/site-packages (from folium) (3.1.4)\n",
      "Requirement already satisfied: numpy in /opt/anaconda3/lib/python3.12/site-packages (from folium) (1.26.4)\n",
      "Requirement already satisfied: requests in /opt/anaconda3/lib/python3.12/site-packages (from folium) (2.32.3)\n",
      "Requirement already satisfied: xyzservices in /opt/anaconda3/lib/python3.12/site-packages (from folium) (2022.9.0)\n",
      "Requirement already satisfied: MarkupSafe>=2.0 in /opt/anaconda3/lib/python3.12/site-packages (from jinja2>=2.9->folium) (2.1.3)\n",
      "Requirement already satisfied: charset-normalizer<4,>=2 in /opt/anaconda3/lib/python3.12/site-packages (from requests->folium) (3.3.2)\n",
      "Requirement already satisfied: idna<4,>=2.5 in /opt/anaconda3/lib/python3.12/site-packages (from requests->folium) (3.7)\n",
      "Requirement already satisfied: urllib3<3,>=1.21.1 in /opt/anaconda3/lib/python3.12/site-packages (from requests->folium) (2.2.3)\n",
      "Requirement already satisfied: certifi>=2017.4.17 in /opt/anaconda3/lib/python3.12/site-packages (from requests->folium) (2025.1.31)\n"
     ]
    }
   ],
   "source": [
    "!pip install folium"
   ]
  },
  {
   "cell_type": "code",
   "execution_count": 2,
   "id": "b4666283-49b0-4638-a2e3-609c07a84bf8",
   "metadata": {},
   "outputs": [],
   "source": [
    "import pandas as pd\n",
    "from geopy.geocoders import Nominatim\n",
    "from geopy.extra.rate_limiter import RateLimiter\n",
    "import folium"
   ]
  },
  {
   "cell_type": "code",
   "execution_count": 3,
   "id": "0e52951d-45c3-4fc1-b7fa-4da0933b1023",
   "metadata": {},
   "outputs": [],
   "source": [
    "df = pd.read_csv(\"WaterTankData_CLEANED_2020toPresent.csv\")"
   ]
  },
  {
   "cell_type": "code",
   "execution_count": 4,
   "id": "2c19540f-b7cd-4122-9007-bc9bcc4084c1",
   "metadata": {},
   "outputs": [],
   "source": [
    "df = df.dropna(subset=['LATITUDE', 'LONGITUDE'])"
   ]
  },
  {
   "cell_type": "code",
   "execution_count": 5,
   "id": "d7b7db62-b94a-4397-b123-8e024963a13f",
   "metadata": {},
   "outputs": [],
   "source": [
    "m = folium.Map(location=[40.7128, -74.0060], zoom_start=11)\n"
   ]
  },
  {
   "cell_type": "code",
   "execution_count": 6,
   "id": "71e94ffd-3c64-43bc-86d4-726c99bd70be",
   "metadata": {},
   "outputs": [],
   "source": [
    "for index, row in df.iterrows():\n",
    "    popup_html = f\"\"\"\n",
    "    <b>Address:</b> {row['ADDRESS']}<br>\n",
    "    <b>Internal Structure:</b> {row['INTERNAL_STRUCTURE']}<br>\n",
    "    <b>External Structure:</b> {row['EXTERNAL_STRUCTURE']}<br>\n",
    "    <b>Sediment:</b> {row['SEDIMENT']}<br>\n",
    "    <b>Debris/Insects:</b> {row['DEBRIS_INSECTS']}<br>\n",
    "    <b>Rodent/Bird:</b> {row['RODENT_BIRD']}\n",
    "    \"\"\"\n",
    "    folium.Marker(\n",
    "        location=[row['LATITUDE'], row['LONGITUDE']],\n",
    "        popup=folium.Popup(popup_html, max_width=300),\n",
    "        tooltip=row['ADDRESS']\n",
    "    ).add_to(m)"
   ]
  },
  {
   "cell_type": "markdown",
   "id": "054123a2-9a2f-449a-a9d1-2c4a288b0496",
   "metadata": {},
   "source": [
    "m"
   ]
  },
  {
   "cell_type": "code",
   "execution_count": 8,
   "id": "c64b3b50-d7d9-4344-a9b7-726adcb9a518",
   "metadata": {},
   "outputs": [],
   "source": [
    "## map too complex for rendering in browser, will create in google maps\n",
    "\n",
    "m.save(r\"C:\\Users\\lizziewalsh\\dataProjects\\nyc_tank_locator_map_2.html\")"
   ]
  },
  {
   "cell_type": "code",
   "execution_count": null,
   "id": "84b345f0-6c92-4fd1-93ac-715101500e03",
   "metadata": {},
   "outputs": [],
   "source": []
  }
 ],
 "metadata": {
  "kernelspec": {
   "display_name": "Python [conda env:base] *",
   "language": "python",
   "name": "conda-base-py"
  },
  "language_info": {
   "codemirror_mode": {
    "name": "ipython",
    "version": 3
   },
   "file_extension": ".py",
   "mimetype": "text/x-python",
   "name": "python",
   "nbconvert_exporter": "python",
   "pygments_lexer": "ipython3",
   "version": "3.12.7"
  }
 },
 "nbformat": 4,
 "nbformat_minor": 5
}
